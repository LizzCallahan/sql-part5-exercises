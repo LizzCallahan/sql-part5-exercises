{
    "metadata": {
        "kernelspec": {
            "name": "SQL",
            "display_name": "SQL",
            "language": "sql"
        },
        "language_info": {
            "name": "sql",
            "version": ""
        }
    },
    "nbformat_minor": 2,
    "nbformat": 4,
    "cells": [
        {
            "cell_type": "markdown",
            "source": [
                "# Exercises: Creating, Updating, and Destroying Objects\n",
                "\n",
                "For the exercises, you will be working with objects and data you create. Before opening this notebook, make sure that you have set up the new connection to the server and that you have located the database and your schema.\n",
                "\n",
                "## Object Creation\n",
                "\n",
                "Before coding, think of three things you want to make. These could be coding projects, new recipes, or planned projects for a woodworking hobby. Brainstorm the appropriate column names and data types as well.\n",
                "\n",
                "Create a table under your schema called `planned_makes`."
            ],
            "metadata": {
                "azdata_cell_guid": "9d51c166-0c19-4f27-a422-2a6cf596bfb2"
            },
            "attachments": {}
        },
        {
            "cell_type": "code",
            "source": [
                "CREATE TABLE JunkDB_STL_March2022.lizz.planned_makes (\r\n",
                "    sewing_project_id INT PRIMARY KEY IDENTITY,\r\n",
                "    pattern_name VARCHAR (200),\r\n",
                "    fabric_content VARCHAR(200),\r\n",
                "    size INT)"
            ],
            "metadata": {
                "azdata_cell_guid": "d9238911-6f81-4f01-980d-b584307effaf",
                "language": "sql"
            },
            "outputs": [
                {
                    "output_type": "display_data",
                    "data": {
                        "text/html": "Commands completed successfully."
                    },
                    "metadata": {}
                },
                {
                    "output_type": "display_data",
                    "data": {
                        "text/html": "Total execution time: 00:00:00.069"
                    },
                    "metadata": {}
                }
            ],
            "execution_count": 1
        },
        {
            "cell_type": "markdown",
            "source": [
                "Add three rows to your table that are your planned makes."
            ],
            "metadata": {
                "azdata_cell_guid": "83cdf34d-8c4f-4fa1-a14e-77384b19d734"
            }
        },
        {
            "cell_type": "code",
            "source": [
                "INSERT INTO JunkDB_STL_March2022.lizz.planned_makes (pattern_name, fabric_content, size)\r\n",
                "VALUES ('Tea House Dress', 'cotton voile', 20),\r\n",
                "('Yanta Overalls', 'denim', 24),\r\n",
                "('Zadie Jumpsuit', 'linen', 22)"
            ],
            "metadata": {
                "language": "sql",
                "azdata_cell_guid": "da867f0c-a344-451a-a3db-f5ce0573bae2"
            },
            "outputs": [
                {
                    "output_type": "display_data",
                    "data": {
                        "text/html": "(3 rows affected)"
                    },
                    "metadata": {}
                },
                {
                    "output_type": "display_data",
                    "data": {
                        "text/html": "Total execution time: 00:00:00.060"
                    },
                    "metadata": {}
                }
            ],
            "execution_count": 5
        },
        {
            "cell_type": "code",
            "source": [
                "SELECT * FROM JunkDB_STL_March2022.lizz.planned_makes"
            ],
            "metadata": {
                "language": "sql",
                "azdata_cell_guid": "452fcc88-84b4-400f-9764-b8a37c38096f"
            },
            "outputs": [
                {
                    "output_type": "display_data",
                    "data": {
                        "text/html": "(3 rows affected)"
                    },
                    "metadata": {}
                },
                {
                    "output_type": "display_data",
                    "data": {
                        "text/html": "Total execution time: 00:00:00.081"
                    },
                    "metadata": {}
                },
                {
                    "output_type": "execute_result",
                    "metadata": {},
                    "execution_count": 6,
                    "data": {
                        "application/vnd.dataresource+json": {
                            "schema": {
                                "fields": [
                                    {
                                        "name": "sewing_project_id"
                                    },
                                    {
                                        "name": "pattern_name"
                                    },
                                    {
                                        "name": "fabric_content"
                                    },
                                    {
                                        "name": "size"
                                    }
                                ]
                            },
                            "data": [
                                {
                                    "0": "1",
                                    "1": "Tea House Dress",
                                    "2": "cotton voile",
                                    "3": "20"
                                },
                                {
                                    "0": "2",
                                    "1": "Yanta Overalls",
                                    "2": "denim",
                                    "3": "24"
                                },
                                {
                                    "0": "3",
                                    "1": "Zadie Jumpsuit",
                                    "2": "linen",
                                    "3": "22"
                                }
                            ]
                        },
                        "text/html": [
                            "<table>",
                            "<tr><th>sewing_project_id</th><th>pattern_name</th><th>fabric_content</th><th>size</th></tr>",
                            "<tr><td>1</td><td>Tea House Dress</td><td>cotton voile</td><td>20</td></tr>",
                            "<tr><td>2</td><td>Yanta Overalls</td><td>denim</td><td>24</td></tr>",
                            "<tr><td>3</td><td>Zadie Jumpsuit</td><td>linen</td><td>22</td></tr>",
                            "</table>"
                        ]
                    }
                }
            ],
            "execution_count": 6
        },
        {
            "cell_type": "markdown",
            "source": [
                "## Update a Row\n",
                "\n",
                "Change different values in one of your three rows."
            ],
            "metadata": {
                "azdata_cell_guid": "4a39b8d4-ae97-4e09-8336-c5fc6a00d76c"
            },
            "attachments": {}
        },
        {
            "cell_type": "code",
            "source": [
                "UPDATE JunkDB_STL_March2022.lizz.planned_makes\r\n",
                "SET size = 22\r\n",
                "WHERE sewing_project_id = 2"
            ],
            "metadata": {
                "azdata_cell_guid": "7409c695-9581-4ad8-b03a-574d2c4c87cb",
                "language": "sql"
            },
            "outputs": [
                {
                    "output_type": "display_data",
                    "data": {
                        "text/html": "(1 row affected)"
                    },
                    "metadata": {}
                },
                {
                    "output_type": "display_data",
                    "data": {
                        "text/html": "Total execution time: 00:00:00.056"
                    },
                    "metadata": {}
                }
            ],
            "execution_count": 7
        },
        {
            "cell_type": "code",
            "source": [
                "SELECT * FROM JunkDB_STL_March2022.lizz.planned_makes"
            ],
            "metadata": {
                "language": "sql",
                "azdata_cell_guid": "170ee7e0-981d-45ed-be33-3e6c824bb506"
            },
            "outputs": [
                {
                    "output_type": "display_data",
                    "data": {
                        "text/html": "(3 rows affected)"
                    },
                    "metadata": {}
                },
                {
                    "output_type": "display_data",
                    "data": {
                        "text/html": "Total execution time: 00:00:00.063"
                    },
                    "metadata": {}
                },
                {
                    "output_type": "execute_result",
                    "metadata": {},
                    "execution_count": 8,
                    "data": {
                        "application/vnd.dataresource+json": {
                            "schema": {
                                "fields": [
                                    {
                                        "name": "sewing_project_id"
                                    },
                                    {
                                        "name": "pattern_name"
                                    },
                                    {
                                        "name": "fabric_content"
                                    },
                                    {
                                        "name": "size"
                                    }
                                ]
                            },
                            "data": [
                                {
                                    "0": "1",
                                    "1": "Tea House Dress",
                                    "2": "cotton voile",
                                    "3": "20"
                                },
                                {
                                    "0": "2",
                                    "1": "Yanta Overalls",
                                    "2": "denim",
                                    "3": "22"
                                },
                                {
                                    "0": "3",
                                    "1": "Zadie Jumpsuit",
                                    "2": "linen",
                                    "3": "22"
                                }
                            ]
                        },
                        "text/html": [
                            "<table>",
                            "<tr><th>sewing_project_id</th><th>pattern_name</th><th>fabric_content</th><th>size</th></tr>",
                            "<tr><td>1</td><td>Tea House Dress</td><td>cotton voile</td><td>20</td></tr>",
                            "<tr><td>2</td><td>Yanta Overalls</td><td>denim</td><td>22</td></tr>",
                            "<tr><td>3</td><td>Zadie Jumpsuit</td><td>linen</td><td>22</td></tr>",
                            "</table>"
                        ]
                    }
                }
            ],
            "execution_count": 8
        },
        {
            "cell_type": "markdown",
            "source": [
                "## Delete a Row\n",
                "\n",
                "Delete one of the rows from your table."
            ],
            "metadata": {
                "azdata_cell_guid": "95e91a6e-9038-42d9-9401-5738842aba17"
            }
        },
        {
            "cell_type": "code",
            "source": [
                "DELETE FROM JunkDB_STL_March2022.lizz.planned_makes\r\n",
                "WHERE sewing_project_id = 3"
            ],
            "metadata": {
                "azdata_cell_guid": "749c748f-19b5-4c69-9004-b6b20216616a",
                "language": "sql"
            },
            "outputs": [
                {
                    "output_type": "display_data",
                    "data": {
                        "text/html": "(1 row affected)"
                    },
                    "metadata": {}
                },
                {
                    "output_type": "display_data",
                    "data": {
                        "text/html": "Total execution time: 00:00:00.061"
                    },
                    "metadata": {}
                }
            ],
            "execution_count": 9
        },
        {
            "cell_type": "markdown",
            "source": [
                "## Drop the Table\n",
                "\n",
                "While this has been fun, it is time to drop the table!"
            ],
            "metadata": {
                "azdata_cell_guid": "2239cb09-137b-4579-905b-1aa020793181"
            },
            "attachments": {}
        },
        {
            "cell_type": "code",
            "source": [
                "DROP TABLE JunkDB_STL_March2022.lizz.planned_makes"
            ],
            "metadata": {
                "azdata_cell_guid": "b3c7f6ea-ee26-46b3-9c2a-2f7a82c39699",
                "language": "sql"
            },
            "outputs": [
                {
                    "output_type": "display_data",
                    "data": {
                        "text/html": "Commands completed successfully."
                    },
                    "metadata": {}
                },
                {
                    "output_type": "display_data",
                    "data": {
                        "text/html": "Total execution time: 00:00:00.067"
                    },
                    "metadata": {}
                }
            ],
            "execution_count": 10
        }
    ]
}